{
 "cells": [
  {
   "cell_type": "code",
   "execution_count": 1,
   "metadata": {
    "Collapsed": "false"
   },
   "outputs": [],
   "source": [
    "import json"
   ]
  },
  {
   "cell_type": "code",
   "execution_count": 2,
   "metadata": {
    "Collapsed": "false"
   },
   "outputs": [
    {
     "data": {
      "text/plain": [
       "'{\\n    \"BL01\": {\\n        \"name\": {\\n            \"en\": \"Tha Phra\",\\n            \"th\": \"ท่าพระ\"\\n        },\\n        \"exit\": {\\n            \"1\": \"Soi Phet Kasem 10/2\",\\n            \"2A\": \"Soi Phet Kasem 11\",\\n            \"2B\": \"Bangkokyai District Office, Soi Phet Kasem 15\",\\n            \"3\": \"Soi Phet Kasem 12\",\\n            \"D\": \"Soi Krittachak\"\\n        }\\n    },\\n    \"BL27\": {\\n        \"name\": {\\n            \"en\": \"Sam Yan\",\\n            \"th\": \"สามย่าน\"\\n        },\\n        \"exit\": {\\n            \"1\": \"Wat Hua Lamphong\",\\n            \"2\": \"Chamchuri Square\"\\n        }\\n    },\\n    \"BL22\": {\\n        \"name\": {\\n            \"en\": \"Sukhumvit\",\\n            \"th\": \"สุขุมวิท\"\\n        },\\n        \"exit\": {\\n            \"1\": \"Asokmontri Road\",\\n            \"2\": \"Interchange 21\",\\n            \"3\": \"Sukhumvit Road\"\\n        }\\n    }\\n}'"
      ]
     },
     "execution_count": 2,
     "metadata": {},
     "output_type": "execute_result"
    }
   ],
   "source": [
    "with open('mrt.json', encoding='utf8') as f:\n",
    "    s=f.read()\n",
    "s"
   ]
  },
  {
   "cell_type": "code",
   "execution_count": 3,
   "metadata": {
    "Collapsed": "false"
   },
   "outputs": [
    {
     "name": "stdout",
     "output_type": "stream",
     "text": [
      "{\n",
      "    \"BL01\": {\n",
      "        \"name\": {\n",
      "            \"en\": \"Tha Phra\",\n",
      "            \"th\": \"ท่าพระ\"\n",
      "        },\n",
      "        \"exit\": {\n",
      "            \"1\": \"Soi Phet Kasem 10/2\",\n",
      "            \"2A\": \"Soi Phet Kasem 11\",\n",
      "            \"2B\": \"Bangkokyai District Office, Soi Phet Kasem 15\",\n",
      "            \"3\": \"Soi Phet Kasem 12\",\n",
      "            \"D\": \"Soi Krittachak\"\n",
      "        }\n",
      "    },\n",
      "    \"BL27\": {\n",
      "        \"name\": {\n",
      "            \"en\": \"Sam Yan\",\n",
      "            \"th\": \"สามย่าน\"\n",
      "        },\n",
      "        \"exit\": {\n",
      "            \"1\": \"Wat Hua Lamphong\",\n",
      "            \"2\": \"Chamchuri Square\"\n",
      "        }\n",
      "    },\n",
      "    \"BL22\": {\n",
      "        \"name\": {\n",
      "            \"en\": \"Sukhumvit\",\n",
      "            \"th\": \"สุขุมวิท\"\n",
      "        },\n",
      "        \"exit\": {\n",
      "            \"1\": \"Asokmontri Road\",\n",
      "            \"2\": \"Interchange 21\",\n",
      "            \"3\": \"Sukhumvit Road\"\n",
      "        }\n",
      "    }\n",
      "}\n"
     ]
    }
   ],
   "source": [
    "print(s)"
   ]
  },
  {
   "cell_type": "code",
   "execution_count": 4,
   "metadata": {
    "Collapsed": "false"
   },
   "outputs": [
    {
     "data": {
      "text/plain": [
       "{'BL01': {'name': {'en': 'Tha Phra', 'th': 'ท่าพระ'},\n",
       "  'exit': {'1': 'Soi Phet Kasem 10/2',\n",
       "   '2A': 'Soi Phet Kasem 11',\n",
       "   '2B': 'Bangkokyai District Office, Soi Phet Kasem 15',\n",
       "   '3': 'Soi Phet Kasem 12',\n",
       "   'D': 'Soi Krittachak'}},\n",
       " 'BL27': {'name': {'en': 'Sam Yan', 'th': 'สามย่าน'},\n",
       "  'exit': {'1': 'Wat Hua Lamphong', '2': 'Chamchuri Square'}},\n",
       " 'BL22': {'name': {'en': 'Sukhumvit', 'th': 'สุขุมวิท'},\n",
       "  'exit': {'1': 'Asokmontri Road',\n",
       "   '2': 'Interchange 21',\n",
       "   '3': 'Sukhumvit Road'}}}"
      ]
     },
     "execution_count": 4,
     "metadata": {},
     "output_type": "execute_result"
    }
   ],
   "source": [
    "d=json.loads(s)\n",
    "d"
   ]
  },
  {
   "cell_type": "code",
   "execution_count": 5,
   "metadata": {
    "Collapsed": "false"
   },
   "outputs": [
    {
     "data": {
      "text/plain": [
       "dict"
      ]
     },
     "execution_count": 5,
     "metadata": {},
     "output_type": "execute_result"
    }
   ],
   "source": [
    "type(d)"
   ]
  },
  {
   "cell_type": "code",
   "execution_count": 6,
   "metadata": {
    "Collapsed": "false"
   },
   "outputs": [
    {
     "data": {
      "text/plain": [
       "{'name': {'en': 'Sam Yan', 'th': 'สามย่าน'},\n",
       " 'exit': {'1': 'Wat Hua Lamphong', '2': 'Chamchuri Square'}}"
      ]
     },
     "execution_count": 6,
     "metadata": {},
     "output_type": "execute_result"
    }
   ],
   "source": [
    "d['BL27']"
   ]
  },
  {
   "cell_type": "code",
   "execution_count": 10,
   "metadata": {
    "Collapsed": "false"
   },
   "outputs": [
    {
     "name": "stdout",
     "output_type": "stream",
     "text": [
      "ท่าพระ Tha Phra\n",
      "สามย่าน Sam Yan\n",
      "สุขุมวิท Sukhumvit\n"
     ]
    }
   ],
   "source": [
    "for k, v in d.items():\n",
    "    print(v['name']['th'], v['name']['en'])"
   ]
  },
  {
   "cell_type": "code",
   "execution_count": 12,
   "metadata": {
    "Collapsed": "false"
   },
   "outputs": [
    {
     "data": {
      "text/plain": [
       "'{\"name\": {\"en\": \"Sam Yan\", \"th\": \"\\\\u0e2a\\\\u0e32\\\\u0e21\\\\u0e22\\\\u0e48\\\\u0e32\\\\u0e19\"}, \"exit\": {\"1\": \"Wat Hua Lamphong\", \"2\": \"Chamchuri Square\"}}'"
      ]
     },
     "execution_count": 12,
     "metadata": {},
     "output_type": "execute_result"
    }
   ],
   "source": [
    "json.dumps(d['BL27'])"
   ]
  },
  {
   "cell_type": "code",
   "execution_count": 13,
   "metadata": {
    "Collapsed": "false"
   },
   "outputs": [
    {
     "data": {
      "text/plain": [
       "str"
      ]
     },
     "execution_count": 13,
     "metadata": {},
     "output_type": "execute_result"
    }
   ],
   "source": [
    "type(json.dumps(d['BL27']))"
   ]
  },
  {
   "cell_type": "code",
   "execution_count": 14,
   "metadata": {
    "Collapsed": "false"
   },
   "outputs": [
    {
     "data": {
      "text/plain": [
       "dict"
      ]
     },
     "execution_count": 14,
     "metadata": {},
     "output_type": "execute_result"
    }
   ],
   "source": [
    "type(d['BL27'])"
   ]
  },
  {
   "cell_type": "code",
   "execution_count": null,
   "metadata": {
    "Collapsed": "false"
   },
   "outputs": [],
   "source": []
  },
  {
   "cell_type": "code",
   "execution_count": 15,
   "metadata": {
    "Collapsed": "false"
   },
   "outputs": [],
   "source": [
    "with open('demo.json', mode='w', encoding='utf8') as f:\n",
    "    f.write(json.dumps(d['BL27']))\n"
   ]
  },
  {
   "cell_type": "code",
   "execution_count": 16,
   "metadata": {
    "Collapsed": "false"
   },
   "outputs": [
    {
     "data": {
      "text/plain": [
       "'{\"name\": {\"en\": \"Sam Yan\", \"th\": \"\\\\u0e2a\\\\u0e32\\\\u0e21\\\\u0e22\\\\u0e48\\\\u0e32\\\\u0e19\"}, \"exit\": {\"1\": \"Wat Hua Lamphong\", \"2\": \"Chamchuri Square\"}}'"
      ]
     },
     "execution_count": 16,
     "metadata": {},
     "output_type": "execute_result"
    }
   ],
   "source": [
    "with open('demo.json', encoding='utf8') as f:\n",
    "    s=f.read()\n",
    "s"
   ]
  },
  {
   "cell_type": "code",
   "execution_count": 17,
   "metadata": {
    "Collapsed": "false"
   },
   "outputs": [
    {
     "data": {
      "text/plain": [
       "{'name': {'en': 'Sam Yan', 'th': 'สามย่าน'},\n",
       " 'exit': {'1': 'Wat Hua Lamphong', '2': 'Chamchuri Square'}}"
      ]
     },
     "execution_count": 17,
     "metadata": {},
     "output_type": "execute_result"
    }
   ],
   "source": [
    "json.loads(s)"
   ]
  },
  {
   "cell_type": "code",
   "execution_count": 15,
   "metadata": {
    "Collapsed": "false"
   },
   "outputs": [],
   "source": [
    "with open('demo.json', mode='w', encoding='utf8') as f:\n",
    "    f.write(json.dumps(d['BL27']))\n"
   ]
  },
  {
   "cell_type": "code",
   "execution_count": 18,
   "metadata": {
    "Collapsed": "false"
   },
   "outputs": [
    {
     "data": {
      "text/plain": [
       "'{\"name\": {\"en\": \"Sam Yan\", \"th\": \"สามย่าน\"}, \"exit\": {\"1\": \"Wat Hua Lamphong\", \"2\": \"Chamchuri Square\"}}'"
      ]
     },
     "execution_count": 18,
     "metadata": {},
     "output_type": "execute_result"
    }
   ],
   "source": [
    "json.dumps(d['BL27'], ensure_ascii=False)"
   ]
  },
  {
   "cell_type": "code",
   "execution_count": 19,
   "metadata": {
    "Collapsed": "false"
   },
   "outputs": [],
   "source": [
    "with open('demo2.json', mode='w', encoding='utf8') as f:\n",
    "    f.write(json.dumps(d['BL27'], ensure_ascii=False))\n"
   ]
  },
  {
   "cell_type": "markdown",
   "metadata": {
    "Collapsed": "false"
   },
   "source": [
    "# example 2"
   ]
  },
  {
   "cell_type": "code",
   "execution_count": 21,
   "metadata": {
    "Collapsed": "false"
   },
   "outputs": [
    {
     "data": {
      "text/plain": [
       "'{\\n    \"feed\": {\\n        \"title\": \"Top Free iPhone Apps\",\\n        \"id\": \"https://rss.itunes.apple.com/api/v1/th/ios-apps/top-free/all/3/non-explicit.json\",\\n        \"author\": {\\n            \"name\": \"iTunes Store\",\\n            \"uri\": \"http://wwww.apple.com/th/itunes/\"\\n        },\\n        \"links\": [\\n            {\\n                \"self\": \"https://rss.itunes.apple.com/api/v1/th/ios-apps/top-free/all/3/non-explicit.json\"\\n            },\\n            {\\n                \"alternate\": \"https://itunes.apple.com/WebObjects/MZStore.woa/wa/viewTop?genreId=36\\\\u0026popId=27\"\\n            }\\n        ],\\n        \"copyright\": \"Copyright © 2018 Apple Inc. All rights reserved.\",\\n        \"country\": \"th\",\\n        \"icon\": \"http://itunes.apple.com/favicon.ico\",\\n        \"updated\": \"2020-04-18T01:57:47.000-07:00\",\\n        \"results\": [\\n            {\\n                \"artistName\": \"Department of Agricultural Extension\",\\n                \"id\": \"1448487535\",\\n                \"releaseDate\": \"2019-03-21\",\\n                \"name\": \"Farmbook\",\\n                \"kind\": \"iosSoftware\",\\n                \"copyright\": \"© Digital DOAE\",\\n                \"artistId\": \"1438730420\",\\n                \"artistUrl\": \"https://apps.apple.com/th/developer/department-of-agricultural-extension/id1438730420\",\\n                \"artworkUrl100\": \"https://is3-ssl.mzstatic.com/image/thumb/Purple123/v4/d3/f0/93/d3f0935f-397f-a659-6574-ecdc2bf4bf8f/AppIcon-0-0-1x_U007emarketing-0-0-0-10-0-0-sRGB-0-0-0-GLES2_U002c0-512MB-85-220-0-0.png/200x200bb.png\",\\n                \"genres\": [\\n                    {\\n                        \"genreId\": \"6000\",\\n                        \"name\": \"Business\",\\n                        \"url\": \"https://itunes.apple.com/th/genre/id6000\"\\n                    }\\n                ],\\n                \"url\": \"https://apps.apple.com/th/app/farmbook/id1448487535\"\\n            },\\n            {\\n                \"artistName\": \"TikTok Pte. Ltd.\",\\n                \"id\": \"1235601864\",\\n                \"releaseDate\": \"2017-05-31\",\\n                \"name\": \"TikTok-Global Video Community\",\\n                \"kind\": \"iosSoftware\",\\n                \"copyright\": \"Copyright © 2017 Bytedance Inc.\",\\n                \"artistId\": \"1322881000\",\\n                \"artistUrl\": \"https://apps.apple.com/th/developer/tiktok-pte-ltd/id1322881000\",\\n                \"artworkUrl100\": \"https://is3-ssl.mzstatic.com/image/thumb/Purple114/v4/b5/76/69/b5766980-ca31-534b-fea4-90cb7928788a/AppIcon_TikTok-0-0-1x_U007emarketing-0-0-0-7-0-0-sRGB-0-0-0-GLES2_U002c0-512MB-85-220-0-0.png/200x200bb.png\",\\n                \"genres\": [\\n                    {\\n                        \"genreId\": \"6016\",\\n                        \"name\": \"Entertainment\",\\n                        \"url\": \"https://itunes.apple.com/th/genre/id6016\"\\n                    },\\n                    {\\n                        \"genreId\": \"6008\",\\n                        \"name\": \"Photo \\\\u0026 Video\",\\n                        \"url\": \"https://itunes.apple.com/th/genre/id6008\"\\n                    }\\n                ],\\n                \"url\": \"https://apps.apple.com/th/app/tiktok-global-video-community/id1235601864\"\\n            },\\n            {\\n                \"artistName\": \"Gosoft (Thailand) Co., Ltd.\",\\n                \"id\": \"1478227014\",\\n                \"releaseDate\": \"2019-09-08\",\\n                \"name\": \"7-Delivery\",\\n                \"kind\": \"iosSoftware\",\\n                \"copyright\": \"© Gosoft (Thailand) Co., Ltd.\",\\n                \"artistId\": \"1126651896\",\\n                \"artistUrl\": \"https://apps.apple.com/th/developer/gosoft-thailand-co-ltd/id1126651896\",\\n                \"artworkUrl100\": \"https://is2-ssl.mzstatic.com/image/thumb/Purple114/v4/e9/8a/37/e98a37a6-70ae-7823-5952-276052218137/AppIcon-0-0-1x_U007emarketing-0-0-0-7-0-0-sRGB-0-0-0-GLES2_U002c0-512MB-85-220-0-0.png/200x200bb.png\",\\n                \"genres\": [\\n                    {\\n                        \"genreId\": \"6024\",\\n                        \"name\": \"Shopping\",\\n                        \"url\": \"https://itunes.apple.com/th/genre/id6024\"\\n                    },\\n                    {\\n                        \"genreId\": \"6023\",\\n                        \"name\": \"Food \\\\u0026 Drink\",\\n                        \"url\": \"https://itunes.apple.com/th/genre/id6023\"\\n                    }\\n                ],\\n                \"url\": \"https://apps.apple.com/th/app/7-delivery/id1478227014\"\\n            }\\n        ]\\n    }\\n}'"
      ]
     },
     "execution_count": 21,
     "metadata": {},
     "output_type": "execute_result"
    }
   ],
   "source": [
    "with open('top_app.json', encoding='utf8') as f:\n",
    "    s=f.read()\n",
    "s"
   ]
  },
  {
   "cell_type": "code",
   "execution_count": 22,
   "metadata": {
    "Collapsed": "false"
   },
   "outputs": [
    {
     "data": {
      "text/plain": [
       "{'feed': {'title': 'Top Free iPhone Apps',\n",
       "  'id': 'https://rss.itunes.apple.com/api/v1/th/ios-apps/top-free/all/3/non-explicit.json',\n",
       "  'author': {'name': 'iTunes Store',\n",
       "   'uri': 'http://wwww.apple.com/th/itunes/'},\n",
       "  'links': [{'self': 'https://rss.itunes.apple.com/api/v1/th/ios-apps/top-free/all/3/non-explicit.json'},\n",
       "   {'alternate': 'https://itunes.apple.com/WebObjects/MZStore.woa/wa/viewTop?genreId=36&popId=27'}],\n",
       "  'copyright': 'Copyright © 2018 Apple Inc. All rights reserved.',\n",
       "  'country': 'th',\n",
       "  'icon': 'http://itunes.apple.com/favicon.ico',\n",
       "  'updated': '2020-04-18T01:57:47.000-07:00',\n",
       "  'results': [{'artistName': 'Department of Agricultural Extension',\n",
       "    'id': '1448487535',\n",
       "    'releaseDate': '2019-03-21',\n",
       "    'name': 'Farmbook',\n",
       "    'kind': 'iosSoftware',\n",
       "    'copyright': '© Digital DOAE',\n",
       "    'artistId': '1438730420',\n",
       "    'artistUrl': 'https://apps.apple.com/th/developer/department-of-agricultural-extension/id1438730420',\n",
       "    'artworkUrl100': 'https://is3-ssl.mzstatic.com/image/thumb/Purple123/v4/d3/f0/93/d3f0935f-397f-a659-6574-ecdc2bf4bf8f/AppIcon-0-0-1x_U007emarketing-0-0-0-10-0-0-sRGB-0-0-0-GLES2_U002c0-512MB-85-220-0-0.png/200x200bb.png',\n",
       "    'genres': [{'genreId': '6000',\n",
       "      'name': 'Business',\n",
       "      'url': 'https://itunes.apple.com/th/genre/id6000'}],\n",
       "    'url': 'https://apps.apple.com/th/app/farmbook/id1448487535'},\n",
       "   {'artistName': 'TikTok Pte. Ltd.',\n",
       "    'id': '1235601864',\n",
       "    'releaseDate': '2017-05-31',\n",
       "    'name': 'TikTok-Global Video Community',\n",
       "    'kind': 'iosSoftware',\n",
       "    'copyright': 'Copyright © 2017 Bytedance Inc.',\n",
       "    'artistId': '1322881000',\n",
       "    'artistUrl': 'https://apps.apple.com/th/developer/tiktok-pte-ltd/id1322881000',\n",
       "    'artworkUrl100': 'https://is3-ssl.mzstatic.com/image/thumb/Purple114/v4/b5/76/69/b5766980-ca31-534b-fea4-90cb7928788a/AppIcon_TikTok-0-0-1x_U007emarketing-0-0-0-7-0-0-sRGB-0-0-0-GLES2_U002c0-512MB-85-220-0-0.png/200x200bb.png',\n",
       "    'genres': [{'genreId': '6016',\n",
       "      'name': 'Entertainment',\n",
       "      'url': 'https://itunes.apple.com/th/genre/id6016'},\n",
       "     {'genreId': '6008',\n",
       "      'name': 'Photo & Video',\n",
       "      'url': 'https://itunes.apple.com/th/genre/id6008'}],\n",
       "    'url': 'https://apps.apple.com/th/app/tiktok-global-video-community/id1235601864'},\n",
       "   {'artistName': 'Gosoft (Thailand) Co., Ltd.',\n",
       "    'id': '1478227014',\n",
       "    'releaseDate': '2019-09-08',\n",
       "    'name': '7-Delivery',\n",
       "    'kind': 'iosSoftware',\n",
       "    'copyright': '© Gosoft (Thailand) Co., Ltd.',\n",
       "    'artistId': '1126651896',\n",
       "    'artistUrl': 'https://apps.apple.com/th/developer/gosoft-thailand-co-ltd/id1126651896',\n",
       "    'artworkUrl100': 'https://is2-ssl.mzstatic.com/image/thumb/Purple114/v4/e9/8a/37/e98a37a6-70ae-7823-5952-276052218137/AppIcon-0-0-1x_U007emarketing-0-0-0-7-0-0-sRGB-0-0-0-GLES2_U002c0-512MB-85-220-0-0.png/200x200bb.png',\n",
       "    'genres': [{'genreId': '6024',\n",
       "      'name': 'Shopping',\n",
       "      'url': 'https://itunes.apple.com/th/genre/id6024'},\n",
       "     {'genreId': '6023',\n",
       "      'name': 'Food & Drink',\n",
       "      'url': 'https://itunes.apple.com/th/genre/id6023'}],\n",
       "    'url': 'https://apps.apple.com/th/app/7-delivery/id1478227014'}]}}"
      ]
     },
     "execution_count": 22,
     "metadata": {},
     "output_type": "execute_result"
    }
   ],
   "source": [
    "j=json.loads(s)\n",
    "j"
   ]
  },
  {
   "cell_type": "code",
   "execution_count": 24,
   "metadata": {
    "Collapsed": "false"
   },
   "outputs": [
    {
     "data": {
      "text/plain": [
       "[{'artistName': 'Department of Agricultural Extension',\n",
       "  'id': '1448487535',\n",
       "  'releaseDate': '2019-03-21',\n",
       "  'name': 'Farmbook',\n",
       "  'kind': 'iosSoftware',\n",
       "  'copyright': '© Digital DOAE',\n",
       "  'artistId': '1438730420',\n",
       "  'artistUrl': 'https://apps.apple.com/th/developer/department-of-agricultural-extension/id1438730420',\n",
       "  'artworkUrl100': 'https://is3-ssl.mzstatic.com/image/thumb/Purple123/v4/d3/f0/93/d3f0935f-397f-a659-6574-ecdc2bf4bf8f/AppIcon-0-0-1x_U007emarketing-0-0-0-10-0-0-sRGB-0-0-0-GLES2_U002c0-512MB-85-220-0-0.png/200x200bb.png',\n",
       "  'genres': [{'genreId': '6000',\n",
       "    'name': 'Business',\n",
       "    'url': 'https://itunes.apple.com/th/genre/id6000'}],\n",
       "  'url': 'https://apps.apple.com/th/app/farmbook/id1448487535'},\n",
       " {'artistName': 'TikTok Pte. Ltd.',\n",
       "  'id': '1235601864',\n",
       "  'releaseDate': '2017-05-31',\n",
       "  'name': 'TikTok-Global Video Community',\n",
       "  'kind': 'iosSoftware',\n",
       "  'copyright': 'Copyright © 2017 Bytedance Inc.',\n",
       "  'artistId': '1322881000',\n",
       "  'artistUrl': 'https://apps.apple.com/th/developer/tiktok-pte-ltd/id1322881000',\n",
       "  'artworkUrl100': 'https://is3-ssl.mzstatic.com/image/thumb/Purple114/v4/b5/76/69/b5766980-ca31-534b-fea4-90cb7928788a/AppIcon_TikTok-0-0-1x_U007emarketing-0-0-0-7-0-0-sRGB-0-0-0-GLES2_U002c0-512MB-85-220-0-0.png/200x200bb.png',\n",
       "  'genres': [{'genreId': '6016',\n",
       "    'name': 'Entertainment',\n",
       "    'url': 'https://itunes.apple.com/th/genre/id6016'},\n",
       "   {'genreId': '6008',\n",
       "    'name': 'Photo & Video',\n",
       "    'url': 'https://itunes.apple.com/th/genre/id6008'}],\n",
       "  'url': 'https://apps.apple.com/th/app/tiktok-global-video-community/id1235601864'},\n",
       " {'artistName': 'Gosoft (Thailand) Co., Ltd.',\n",
       "  'id': '1478227014',\n",
       "  'releaseDate': '2019-09-08',\n",
       "  'name': '7-Delivery',\n",
       "  'kind': 'iosSoftware',\n",
       "  'copyright': '© Gosoft (Thailand) Co., Ltd.',\n",
       "  'artistId': '1126651896',\n",
       "  'artistUrl': 'https://apps.apple.com/th/developer/gosoft-thailand-co-ltd/id1126651896',\n",
       "  'artworkUrl100': 'https://is2-ssl.mzstatic.com/image/thumb/Purple114/v4/e9/8a/37/e98a37a6-70ae-7823-5952-276052218137/AppIcon-0-0-1x_U007emarketing-0-0-0-7-0-0-sRGB-0-0-0-GLES2_U002c0-512MB-85-220-0-0.png/200x200bb.png',\n",
       "  'genres': [{'genreId': '6024',\n",
       "    'name': 'Shopping',\n",
       "    'url': 'https://itunes.apple.com/th/genre/id6024'},\n",
       "   {'genreId': '6023',\n",
       "    'name': 'Food & Drink',\n",
       "    'url': 'https://itunes.apple.com/th/genre/id6023'}],\n",
       "  'url': 'https://apps.apple.com/th/app/7-delivery/id1478227014'}]"
      ]
     },
     "execution_count": 24,
     "metadata": {},
     "output_type": "execute_result"
    }
   ],
   "source": [
    "j['feed']['results']"
   ]
  },
  {
   "cell_type": "code",
   "execution_count": 25,
   "metadata": {
    "Collapsed": "false"
   },
   "outputs": [
    {
     "data": {
      "text/plain": [
       "list"
      ]
     },
     "execution_count": 25,
     "metadata": {},
     "output_type": "execute_result"
    }
   ],
   "source": [
    "type(j['feed']['results'])"
   ]
  },
  {
   "cell_type": "code",
   "execution_count": 26,
   "metadata": {
    "Collapsed": "false"
   },
   "outputs": [],
   "source": [
    "import requests"
   ]
  },
  {
   "cell_type": "code",
   "execution_count": 27,
   "metadata": {
    "Collapsed": "false"
   },
   "outputs": [
    {
     "data": {
      "text/plain": [
       "True"
      ]
     },
     "execution_count": 27,
     "metadata": {},
     "output_type": "execute_result"
    }
   ],
   "source": [
    "url='https://covid19.th-stat.com/api/open/today'\n",
    "r=requests.get(url)\n",
    "r.ok"
   ]
  },
  {
   "cell_type": "code",
   "execution_count": 32,
   "metadata": {
    "Collapsed": "false"
   },
   "outputs": [
    {
     "data": {
      "text/plain": [
       "{'Date': 'Mon, 20 Apr 2020 00:10:57 GMT', 'Content-Type': 'application/json', 'Content-Length': '208', 'Connection': 'keep-alive', 'Set-Cookie': '__cfduid=d0c0de70f315aa6406fd1e0b8b1e170181587341457; expires=Wed, 20-May-20 00:10:57 GMT; path=/; domain=.th-stat.com; HttpOnly; SameSite=Lax', 'Last-Modified': 'Mon, 20 Apr 2020 00:10:02 GMT', 'ETag': '\"129-5a3adb86a8bfa-gzip\"', 'Accept-Ranges': 'bytes', 'Vary': 'Accept-Encoding,User-Agent', 'Content-Encoding': 'gzip', 'Access-Control-Allow-Origin': '*', 'Access-Control-Allow-Methods': 'GET', 'CF-Cache-Status': 'DYNAMIC', 'Expect-CT': 'max-age=604800, report-uri=\"https://report-uri.cloudflare.com/cdn-cgi/beacon/expect-ct\"', 'Server': 'cloudflare', 'CF-RAY': '586aa52db83983b1-BKK', 'cf-request-id': '0236859090000083b10b869200000001'}"
      ]
     },
     "execution_count": 32,
     "metadata": {},
     "output_type": "execute_result"
    }
   ],
   "source": [
    "r.headers"
   ]
  },
  {
   "cell_type": "code",
   "execution_count": 28,
   "metadata": {
    "Collapsed": "false"
   },
   "outputs": [
    {
     "data": {
      "text/plain": [
       "'{\"Confirmed\":2765,\"Recovered\":1928,\"Hospitalized\":790,\"Deaths\":47,\"NewConfirmed\":32,\"NewRecovered\":141,\"NewHospitalized\":-109,\"NewDeaths\":0,\"UpdateDate\":\"19\\\\/04\\\\/2020 11:34\",\"Source\":\"https:\\\\/\\\\/covid19.th-stat.com\\\\/\",\"DevBy\":\"https:\\\\/\\\\/www.kidkarnmai.com\\\\/\",\"SeverBy\":\"https:\\\\/\\\\/smilehost.asia\\\\/\"}'"
      ]
     },
     "execution_count": 28,
     "metadata": {},
     "output_type": "execute_result"
    }
   ],
   "source": [
    "r.text"
   ]
  },
  {
   "cell_type": "code",
   "execution_count": null,
   "metadata": {
    "Collapsed": "false"
   },
   "outputs": [],
   "source": []
  },
  {
   "cell_type": "code",
   "execution_count": 29,
   "metadata": {
    "Collapsed": "false"
   },
   "outputs": [
    {
     "data": {
      "text/plain": [
       "{'Confirmed': 2765,\n",
       " 'Recovered': 1928,\n",
       " 'Hospitalized': 790,\n",
       " 'Deaths': 47,\n",
       " 'NewConfirmed': 32,\n",
       " 'NewRecovered': 141,\n",
       " 'NewHospitalized': -109,\n",
       " 'NewDeaths': 0,\n",
       " 'UpdateDate': '19/04/2020 11:34',\n",
       " 'Source': 'https://covid19.th-stat.com/',\n",
       " 'DevBy': 'https://www.kidkarnmai.com/',\n",
       " 'SeverBy': 'https://smilehost.asia/'}"
      ]
     },
     "execution_count": 29,
     "metadata": {},
     "output_type": "execute_result"
    }
   ],
   "source": [
    "j=json.loads(r.text)\n",
    "j"
   ]
  },
  {
   "cell_type": "code",
   "execution_count": 30,
   "metadata": {
    "Collapsed": "false"
   },
   "outputs": [
    {
     "data": {
      "text/plain": [
       "dict"
      ]
     },
     "execution_count": 30,
     "metadata": {},
     "output_type": "execute_result"
    }
   ],
   "source": [
    "type(j)"
   ]
  },
  {
   "cell_type": "code",
   "execution_count": 31,
   "metadata": {
    "Collapsed": "false"
   },
   "outputs": [
    {
     "data": {
      "text/plain": [
       "{'Confirmed': 2765,\n",
       " 'Recovered': 1928,\n",
       " 'Hospitalized': 790,\n",
       " 'Deaths': 47,\n",
       " 'NewConfirmed': 32,\n",
       " 'NewRecovered': 141,\n",
       " 'NewHospitalized': -109,\n",
       " 'NewDeaths': 0,\n",
       " 'UpdateDate': '19/04/2020 11:34',\n",
       " 'Source': 'https://covid19.th-stat.com/',\n",
       " 'DevBy': 'https://www.kidkarnmai.com/',\n",
       " 'SeverBy': 'https://smilehost.asia/'}"
      ]
     },
     "execution_count": 31,
     "metadata": {},
     "output_type": "execute_result"
    }
   ],
   "source": [
    "r.json()"
   ]
  },
  {
   "cell_type": "code",
   "execution_count": 33,
   "metadata": {
    "Collapsed": "false"
   },
   "outputs": [
    {
     "data": {
      "text/plain": [
       "2765"
      ]
     },
     "execution_count": 33,
     "metadata": {},
     "output_type": "execute_result"
    }
   ],
   "source": [
    "j['Confirmed']"
   ]
  },
  {
   "cell_type": "code",
   "execution_count": 34,
   "metadata": {
    "Collapsed": "false"
   },
   "outputs": [
    {
     "data": {
      "text/plain": [
       "'19/04/2020 11:34'"
      ]
     },
     "execution_count": 34,
     "metadata": {},
     "output_type": "execute_result"
    }
   ],
   "source": [
    "j['UpdateDate']"
   ]
  },
  {
   "cell_type": "code",
   "execution_count": 35,
   "metadata": {
    "Collapsed": "false"
   },
   "outputs": [],
   "source": [
    "with open('covid.json', mode='w', encoding='utf8') as f:\n",
    "    f.write(r.text)"
   ]
  },
  {
   "cell_type": "code",
   "execution_count": null,
   "metadata": {
    "Collapsed": "false"
   },
   "outputs": [],
   "source": []
  }
 ],
 "metadata": {
  "kernelspec": {
   "display_name": "Python 3",
   "language": "python",
   "name": "python3"
  },
  "language_info": {
   "codemirror_mode": {
    "name": "ipython",
    "version": 3
   },
   "file_extension": ".py",
   "mimetype": "text/x-python",
   "name": "python",
   "nbconvert_exporter": "python",
   "pygments_lexer": "ipython3",
   "version": "3.7.7"
  },
  "widgets": {
   "application/vnd.jupyter.widget-state+json": {
    "state": {},
    "version_major": 2,
    "version_minor": 0
   }
  }
 },
 "nbformat": 4,
 "nbformat_minor": 4
}
