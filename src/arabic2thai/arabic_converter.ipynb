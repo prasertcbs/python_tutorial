{
 "nbformat": 4,
 "nbformat_minor": 2,
 "metadata": {
  "language_info": {
   "name": "python",
   "codemirror_mode": {
    "name": "ipython",
    "version": 3
   },
   "version": "3.7.7-final"
  },
  "orig_nbformat": 2,
  "file_extension": ".py",
  "mimetype": "text/x-python",
  "name": "python",
  "npconvert_exporter": "python",
  "pygments_lexer": "ipython3",
  "version": 3,
  "kernelspec": {
   "name": "python3",
   "display_name": "Python 3"
  }
 },
 "cells": [
  {
   "cell_type": "code",
   "execution_count": 1,
   "metadata": {},
   "outputs": [
    {
     "output_type": "execute_result",
     "data": {
      "text/plain": "'ชื่อจังหวัด อักษรไทย,ชื่อจังหวัด อักษรโรมัน,จำนวนประชากร (คน),พื้นที่ (ตร.กม.),ความหนาแน่น ประชากร (คน/ตร.กม.),ดพม.[2],ตัวย่อ อักษรไทย,ตัวย่อ อักษรโรมัน,รหัส ไอเอสโอ,รหัสฟิปส์\\nกระบี่,Krabi,432704,4708.5,91.9,0.805,กบ,KBI,TH-81,TH63\\nชุมพร,Chumphon,489964,6009.0,81.5,0.71,ชพ,CPN,TH-86,TH58\\nตรัง,Trang,622659,4917.5,126.6,0.69,ตง,TRG,TH-92,TH65\\nนครศรีธรรมราช,Nakhon Si Thammarat,1522561,9942.5,153.1,0.769,นศ,NRT,TH-80,TH64\\nนราธิวาส,Narathiwat,737162,4475.4,164.7,0.636,นธ,NWT,TH-96,TH31\\nปัตตานี,Pattani,655259,1940.4,337.7,0.698,ปน,PTN,TH-94,TH69\\nพังงา,Phangnga,253112,4170.0,60.7,0.758,พง,PNA,TH-82,TH61\\nพัทลุง,Phatthalung,509534,3424.5,148.8,0.713,พท,PLG,TH-93,TH66\\nภูเก็ต,Phuket,345067,543.0,635.5,0.92,ภก,PKT,TH-83,TH62\\nยะลา,Yala,500814,4521.08,110.77,0.687,ยล,YLA,TH-95,TH70\\nระนอง,Ranong,183079,3298.0,55.5,0.67,รน,RNG,TH-85,TH59\\nสงขลา,Songkhla,1357023,7393.9,183.5,0.68,สข,SKA,TH-90,TH68\\nสตูล,Satun,297163,2479.0,119.9,0.655,สต,STN,TH-91,TH67\\nสุราษฎร์ธานี,Surat Thani,1046772,12891.5,81.2,0.84,สฎ,SNI,TH-84,TH60'"
     },
     "metadata": {},
     "execution_count": 1
    }
   ],
   "source": [
    "with open('arabic.txt', encoding='utf8') as f:\n",
    "    s=f.read()\n",
    "s"
   ]
  },
  {
   "cell_type": "code",
   "execution_count": 2,
   "metadata": {},
   "outputs": [
    {
     "output_type": "execute_result",
     "data": {
      "text/plain": "{'0': '๐',\n '1': '๑',\n '2': '๒',\n '3': '๓',\n '4': '๔',\n '5': '๕',\n '6': '๖',\n '7': '๗',\n '8': '๘',\n '9': '๙'}"
     },
     "metadata": {},
     "execution_count": 2
    }
   ],
   "source": [
    "d={\n",
    "    '0': '๐',\n",
    "    '1': '๑',\n",
    "    '2': '๒',\n",
    "    '3': '๓',\n",
    "    '4': '๔',\n",
    "    '5': '๕',\n",
    "    '6': '๖',\n",
    "    '7': '๗',\n",
    "    '8': '๘',\n",
    "    '9': '๙'\n",
    "}\n",
    "d"
   ]
  },
  {
   "cell_type": "code",
   "execution_count": 3,
   "metadata": {},
   "outputs": [
    {
     "output_type": "execute_result",
     "data": {
      "text/plain": "'๕'"
     },
     "metadata": {},
     "execution_count": 3
    }
   ],
   "source": [
    "d['5']"
   ]
  },
  {
   "cell_type": "code",
   "execution_count": 5,
   "metadata": {},
   "outputs": [
    {
     "output_type": "execute_result",
     "data": {
      "text/plain": "'ชื่อจังหวัด อักษรไทย,ชื่อจังหวัด อักษรโรมัน,จำนวนประชากร (คน),พื้นที่ (ตร.กม.),ความหนาแน่น ประชากร (คน/ตร.กม.),ดพม.[๒],ตัวย่อ อักษรไทย,ตัวย่อ อักษรโรมัน,รหัส ไอเอสโอ,รหัสฟิปส์\\nกระบี่,Krabi,๔๓๒๗๐๔,๔๗๐๘.๕,๙๑.๙,๐.๘๐๕,กบ,KBI,TH-๘๑,TH๖๓\\nชุมพร,Chumphon,๔๘๙๙๖๔,๖๐๐๙.๐,๘๑.๕,๐.๗๑,ชพ,CPN,TH-๘๖,TH๕๘\\nตรัง,Trang,๖๒๒๖๕๙,๔๙๑๗.๕,๑๒๖.๖,๐.๖๙,ตง,TRG,TH-๙๒,TH๖๕\\nนครศรีธรรมราช,Nakhon Si Thammarat,๑๕๒๒๕๖๑,๙๙๔๒.๕,๑๕๓.๑,๐.๗๖๙,นศ,NRT,TH-๘๐,TH๖๔\\nนราธิวาส,Narathiwat,๗๓๗๑๖๒,๔๔๗๕.๔,๑๖๔.๗,๐.๖๓๖,นธ,NWT,TH-๙๖,TH๓๑\\nปัตตานี,Pattani,๖๕๕๒๕๙,๑๙๔๐.๔,๓๓๗.๗,๐.๖๙๘,ปน,PTN,TH-๙๔,TH๖๙\\nพังงา,Phangnga,๒๕๓๑๑๒,๔๑๗๐.๐,๖๐.๗,๐.๗๕๘,พง,PNA,TH-๘๒,TH๖๑\\nพัทลุง,Phatthalung,๕๐๙๕๓๔,๓๔๒๔.๕,๑๔๘.๘,๐.๗๑๓,พท,PLG,TH-๙๓,TH๖๖\\nภูเก็ต,Phuket,๓๔๕๐๖๗,๕๔๓.๐,๖๓๕.๕,๐.๙๒,ภก,PKT,TH-๘๓,TH๖๒\\nยะลา,Yala,๕๐๐๘๑๔,๔๕๒๑.๐๘,๑๑๐.๗๗,๐.๖๘๗,ยล,YLA,TH-๙๕,TH๗๐\\nระนอง,Ranong,๑๘๓๐๗๙,๓๒๙๘.๐,๕๕.๕,๐.๖๗,รน,RNG,TH-๘๕,TH๕๙\\nสงขลา,Songkhla,๑๓๕๗๐๒๓,๗๓๙๓.๙,๑๘๓.๕,๐.๖๘,สข,SKA,TH-๙๐,TH๖๘\\nสตูล,Satun,๒๙๗๑๖๓,๒๔๗๙.๐,๑๑๙.๙,๐.๖๕๕,สต,STN,TH-๙๑,TH๖๗\\nสุราษฎร์ธานี,Surat Thani,๑๐๔๖๗๗๒,๑๒๘๙๑.๕,๘๑.๒,๐.๘๔,สฎ,SNI,TH-๘๔,TH๖๐'"
     },
     "metadata": {},
     "execution_count": 5
    }
   ],
   "source": [
    "s_th=''\n",
    "for c in s:\n",
    "    if c.isdigit():\n",
    "        s_th += d[c]\n",
    "    else:\n",
    "        s_th += c\n",
    "s_th"
   ]
  },
  {
   "cell_type": "code",
   "execution_count": 20,
   "metadata": {},
   "outputs": [],
   "source": [
    "def arabic2thai(s: str):\n",
    "    # d={\n",
    "    # '0': '๐',\n",
    "    # '1': '๑',\n",
    "    # '2': '๒',\n",
    "    # '3': '๓',\n",
    "    # '4': '๔',\n",
    "    # '5': '๕',\n",
    "    # '6': '๖',\n",
    "    # '7': '๗',\n",
    "    # '8': '๘',\n",
    "    # '9': '๙'\n",
    "    # }\n",
    "    d={chr(n):chr(int(chr(n)) + ord('๐')) for n in range(ord('0'), ord('9') + 1)}\n",
    "    s_th=''\n",
    "    for c in s:\n",
    "        if c.isdigit():\n",
    "            s_th += d[c]\n",
    "        else:\n",
    "            s_th += c\n",
    "    return s_th"
   ]
  },
  {
   "cell_type": "code",
   "execution_count": 22,
   "metadata": {},
   "outputs": [],
   "source": [
    "s_th=arabic2thai(s)\n",
    "with open('thainumeral.txt', encoding='utf8', mode='w') as f:\n",
    "    f.write(s_th)"
   ]
  },
  {
   "cell_type": "code",
   "execution_count": null,
   "metadata": {},
   "outputs": [],
   "source": []
  },
  {
   "cell_type": "code",
   "execution_count": 8,
   "metadata": {},
   "outputs": [
    {
     "output_type": "execute_result",
     "data": {
      "text/plain": "48"
     },
     "metadata": {},
     "execution_count": 8
    }
   ],
   "source": [
    "ord('0')"
   ]
  },
  {
   "cell_type": "code",
   "execution_count": 9,
   "metadata": {},
   "outputs": [
    {
     "output_type": "execute_result",
     "data": {
      "text/plain": "49"
     },
     "metadata": {},
     "execution_count": 9
    }
   ],
   "source": [
    "ord('1')"
   ]
  },
  {
   "cell_type": "code",
   "execution_count": 10,
   "metadata": {},
   "outputs": [
    {
     "output_type": "execute_result",
     "data": {
      "text/plain": "'0'"
     },
     "metadata": {},
     "execution_count": 10
    }
   ],
   "source": [
    "chr(48)"
   ]
  },
  {
   "cell_type": "code",
   "execution_count": 14,
   "metadata": {},
   "outputs": [
    {
     "output_type": "execute_result",
     "data": {
      "text/plain": "3664"
     },
     "metadata": {},
     "execution_count": 14
    }
   ],
   "source": [
    "ord('๐')"
   ]
  },
  {
   "cell_type": "code",
   "execution_count": 17,
   "metadata": {},
   "outputs": [
    {
     "output_type": "stream",
     "name": "stdout",
     "text": "0 ๐\n1 ๑\n2 ๒\n3 ๓\n4 ๔\n5 ๕\n6 ๖\n7 ๗\n8 ๘\n9 ๙\n"
    }
   ],
   "source": [
    "for n in range(ord('0'), ord('9') + 1):\n",
    "    print(chr(n), chr(int(chr(n)) + ord('๐')))"
   ]
  },
  {
   "cell_type": "code",
   "execution_count": 18,
   "metadata": {},
   "outputs": [
    {
     "output_type": "execute_result",
     "data": {
      "text/plain": "{'0': '๐',\n '1': '๑',\n '2': '๒',\n '3': '๓',\n '4': '๔',\n '5': '๕',\n '6': '๖',\n '7': '๗',\n '8': '๘',\n '9': '๙'}"
     },
     "metadata": {},
     "execution_count": 18
    }
   ],
   "source": [
    "d2={}\n",
    "for n in range(ord('0'), ord('9') + 1):\n",
    "    d2[chr(n)] = chr(int(chr(n)) + ord('๐'))\n",
    "d2"
   ]
  },
  {
   "cell_type": "code",
   "execution_count": 19,
   "metadata": {},
   "outputs": [
    {
     "output_type": "execute_result",
     "data": {
      "text/plain": "{'0': '๐',\n '1': '๑',\n '2': '๒',\n '3': '๓',\n '4': '๔',\n '5': '๕',\n '6': '๖',\n '7': '๗',\n '8': '๘',\n '9': '๙'}"
     },
     "metadata": {},
     "execution_count": 19
    }
   ],
   "source": [
    "d3={chr(n):chr(int(chr(n)) + ord('๐')) for n in range(ord('0'), ord('9') + 1)}\n",
    "d3"
   ]
  },
  {
   "cell_type": "code",
   "execution_count": null,
   "metadata": {},
   "outputs": [],
   "source": []
  }
 ]
}