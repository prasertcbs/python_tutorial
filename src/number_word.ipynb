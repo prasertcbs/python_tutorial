{
 "cells": [
  {
   "cell_type": "markdown",
   "metadata": {
    "Collapsed": "false"
   },
   "source": [
    "# เขียนฟังก์ชันแปลงเฉพาะตัวเลขเป็นคำ\n",
    "ตัวอย่างข้อมูลสำหรับทดสอบความถูกต้องของโปรแกรม\n",
    "* 4711 -> four-seven-one-one\n",
    "* 4-31-3123 -> four-three-one-three-one-two-three\n",
    "* (086) 478-1917 -> zero-eight-six-four-seven-eight-one-nine-one-seven"
   ]
  },
  {
   "cell_type": "raw",
   "metadata": {
    "Collapsed": "false"
   },
   "source": [
    "enter number:  (086) 478-1917\n",
    "output: zero-eight-six-four-seven-eight-one-nine-one-seven"
   ]
  },
  {
   "cell_type": "code",
   "execution_count": 7,
   "metadata": {
    "Collapsed": "false"
   },
   "outputs": [
    {
     "name": "stdin",
     "output_type": "stream",
     "text": [
      "enter number:  ax732-78\n"
     ]
    },
    {
     "name": "stdout",
     "output_type": "stream",
     "text": [
      "output: seven-three-two-seven-eight\n"
     ]
    }
   ],
   "source": [
    "def number_word(s):\n",
    "    words=['zero', 'one', 'two', 'three', 'four', 'five', 'six', 'seven', 'eight', 'nine']\n",
    "#     print(words[1])\n",
    "    w=''\n",
    "    for c in s:\n",
    "#         print(c)\n",
    "#         print(c, words[int(c)])\n",
    "        if '0' <= c <= '9': \n",
    "            w = w + words[int(c)] + '-'\n",
    "    return w[:-1]\n",
    "\n",
    "s = input('enter number: ')\n",
    "print(f'output: {number_word(s)}')"
   ]
  },
  {
   "cell_type": "code",
   "execution_count": 10,
   "metadata": {
    "Collapsed": "false"
   },
   "outputs": [
    {
     "name": "stdin",
     "output_type": "stream",
     "text": [
      "enter number:  rx-123-ad-976\n"
     ]
    },
    {
     "name": "stdout",
     "output_type": "stream",
     "text": [
      "output: one-two-three-nine-seven-six\n"
     ]
    }
   ],
   "source": [
    "def number_word(s):\n",
    "    words=['zero', 'one', 'two', 'three', 'four', 'five', 'six', 'seven', 'eight', 'nine']\n",
    "#     print(words[1])\n",
    "    w=[]\n",
    "    for c in s:\n",
    "        if '0' <= c <= '9': \n",
    "            w.append(words[int(c)])\n",
    "    return '-'.join(w)\n",
    "\n",
    "s = input('enter number: ')\n",
    "print(f'output: {number_word(s)}')"
   ]
  },
  {
   "cell_type": "code",
   "execution_count": 11,
   "metadata": {
    "Collapsed": "false"
   },
   "outputs": [
    {
     "name": "stdin",
     "output_type": "stream",
     "text": [
      "enter number:  rx-1237-abx73\n"
     ]
    },
    {
     "name": "stdout",
     "output_type": "stream",
     "text": [
      "output: one-two-three-seven-seven-three\n"
     ]
    }
   ],
   "source": [
    "def number_word(s):\n",
    "    words=['zero', 'one', 'two', 'three', 'four', 'five', 'six', 'seven', 'eight', 'nine']\n",
    "    w=[words[int(c)] for c in s if '0' <= c <= '9']\n",
    "    return '-'.join(w)\n",
    "\n",
    "s = input('enter number: ')\n",
    "print(f'output: {number_word(s)}')"
   ]
  },
  {
   "cell_type": "code",
   "execution_count": 12,
   "metadata": {
    "Collapsed": "false"
   },
   "outputs": [
    {
     "name": "stdin",
     "output_type": "stream",
     "text": [
      "enter number:  ax7318a-ado(732)\n"
     ]
    },
    {
     "name": "stdout",
     "output_type": "stream",
     "text": [
      "output: seven-three-one-eight-seven-three-two\n"
     ]
    }
   ],
   "source": [
    "def number_word(s):\n",
    "    words=['zero', 'one', 'two', 'three', 'four', 'five', 'six', 'seven', 'eight', 'nine']\n",
    "    w=[words[int(c)] for c in s if c.isdigit()]\n",
    "    return '-'.join(w)\n",
    "\n",
    "s = input('enter number: ')\n",
    "print(f'output: {number_word(s)}')"
   ]
  },
  {
   "cell_type": "code",
   "execution_count": null,
   "metadata": {
    "Collapsed": "false"
   },
   "outputs": [],
   "source": []
  }
 ],
 "metadata": {
  "kernelspec": {
   "display_name": "Python 3",
   "language": "python",
   "name": "python3"
  },
  "language_info": {
   "codemirror_mode": {
    "name": "ipython",
    "version": 3
   },
   "file_extension": ".py",
   "mimetype": "text/x-python",
   "name": "python",
   "nbconvert_exporter": "python",
   "pygments_lexer": "ipython3",
   "version": "3.7.6"
  },
  "widgets": {
   "application/vnd.jupyter.widget-state+json": {
    "state": {},
    "version_major": 2,
    "version_minor": 0
   }
  }
 },
 "nbformat": 4,
 "nbformat_minor": 4
}
